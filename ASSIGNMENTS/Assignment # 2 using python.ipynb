{
 "cells": [
  {
   "cell_type": "markdown",
   "metadata": {},
   "source": [
    "# Q # 1 Write a Python program to find those numbers which are divisible by 7 and multiple of 5, between 1500 and 2700 (both included)"
   ]
  },
  {
   "cell_type": "code",
   "execution_count": 2,
   "metadata": {},
   "outputs": [
    {
     "name": "stdout",
     "output_type": "stream",
     "text": [
      "1505,1540,1575,1610,1645,1680,1715,1750,1785,1820,1855,1890,1925,1960,1995,2030,2065,2100,2135,2170,2205,2240,2275,2310,2345,2380,2415,2450,2485,2520,2555,2590,2625,2660,2695\n"
     ]
    }
   ],
   "source": [
    "# solution 1\n",
    "arr=[]  # create empty array\n",
    "\n",
    "for a in range(1500, 2701):\n",
    "    if (a%7 == 0) and (a%5 == 0):\n",
    "        arr.append(str(a))\n",
    "        \n",
    "print (','.join(arr))"
   ]
  },
  {
   "cell_type": "code",
   "execution_count": 22,
   "metadata": {},
   "outputs": [
    {
     "name": "stdout",
     "output_type": "stream",
     "text": [
      "   1505\n",
      "   1540\n",
      "   1575\n",
      "   1610\n",
      "   1645\n",
      "   1680\n",
      "   1715\n",
      "   1750\n",
      "   1785\n",
      "   1820\n",
      "   1855\n",
      "   1890\n",
      "   1925\n",
      "   1960\n",
      "   1995\n",
      "   2030\n",
      "   2065\n",
      "   2100\n",
      "   2135\n",
      "   2170\n",
      "   2205\n",
      "   2240\n",
      "   2275\n",
      "   2310\n",
      "   2345\n",
      "   2380\n",
      "   2415\n",
      "   2450\n",
      "   2485\n",
      "   2520\n",
      "   2555\n",
      "   2590\n",
      "   2625\n",
      "   2660\n",
      "   2695\n"
     ]
    }
   ],
   "source": [
    "# solution 2\n",
    "for a in range(1500,2701):\n",
    "\n",
    "    if a%7==0 and a%5==0:\n",
    "\n",
    "        print(\"  \",a)"
   ]
  },
  {
   "cell_type": "code",
   "execution_count": 23,
   "metadata": {},
   "outputs": [
    {
     "name": "stdout",
     "output_type": "stream",
     "text": [
      "[1505, 1540, 1575, 1610, 1645, 1680, 1715, 1750, 1785, 1820, 1855, 1890, 1925, 1960, 1995, 2030, 2065, 2100, 2135, 2170, 2205, 2240, 2275, 2310, 2345, 2380, 2415, 2450, 2485, 2520, 2555, 2590, 2625, 2660, 2695]\n"
     ]
    }
   ],
   "source": [
    "# solution 3\n",
    "lis = []  # create a list\n",
    "for a in range(1500,2700):\n",
    "    if ((a%7 == 0) and (a%5 == 0)):\n",
    "        lis.append(a)\n",
    "print (lis)"
   ]
  },
  {
   "cell_type": "markdown",
   "metadata": {},
   "source": [
    "# Q # 2 Write a Python program to construct the following pattern, using a nested for loop."
   ]
  },
  {
   "cell_type": "code",
   "execution_count": 25,
   "metadata": {},
   "outputs": [
    {
     "name": "stdout",
     "output_type": "stream",
     "text": [
      "\n",
      "* \n",
      "* * \n",
      "* * * \n",
      "* * * * \n",
      "* * * * * \n",
      "* * * * \n",
      "* * * \n",
      "* * \n",
      "* \n"
     ]
    }
   ],
   "source": [
    "a = 5;  # create a variable a\n",
    "for i in range(a):  # 1st loop print increment *\n",
    "    for j in range(i):\n",
    "        print ('* ', end=\"\")\n",
    "    print('')\n",
    "\n",
    "for i in range(a,0,-1): # 2nd loop print decrement *\n",
    "    for j in range(i):\n",
    "        print('* ', end=\"\")\n",
    "    print('')"
   ]
  },
  {
   "cell_type": "markdown",
   "metadata": {},
   "source": [
    "# Q # 3 Write a Python program to count the number of even and odd numbers from a series of numbers. For Example:\n",
    "\n",
    "Sample numbers:\n",
    "numbers = (1, 2, 3, 4, 5, 6, 7, 8, 9)\n",
    "\n",
    "Expected Output :\n",
    "Number of even numbers : 5\n",
    "Number of odd numbers : 4"
   ]
  },
  {
   "cell_type": "code",
   "execution_count": 29,
   "metadata": {},
   "outputs": [
    {
     "name": "stdout",
     "output_type": "stream",
     "text": [
      "Number of even numbers : 4\n",
      "Number of odd numbers : 5\n"
     ]
    }
   ],
   "source": [
    "# solution 1 using tuple and for loop\n",
    "\n",
    "a = (1, 2, 3, 4, 5, 6, 7, 8, 9) # create a tuple\n",
    "\n",
    "count_even_num = 0\n",
    "count_odd_num = 0\n",
    "\n",
    "for n in a:\n",
    "        if not n % 2:\n",
    "            count_even_num += 1\n",
    "        else:\n",
    "            count_odd_num += 1\n",
    "            \n",
    "print(\"Number of even numbers :\",count_even_num)\n",
    "print(\"Number of odd numbers :\",count_odd_num)"
   ]
  },
  {
   "cell_type": "code",
   "execution_count": 30,
   "metadata": {},
   "outputs": [
    {
     "name": "stdout",
     "output_type": "stream",
     "text": [
      "Number of even numbers : 4\n",
      "Number of odd numbers : 5\n"
     ]
    }
   ],
   "source": [
    "# solution 2 using list and for loop\n",
    "\n",
    "list1 = [1, 2, 3, 4, 5, 6, 7, 8, 9] # the list of numbers \n",
    "  \n",
    "count_even_num, count_odd_num = 0, 0\n",
    "  \n",
    "# iterating each number in list usin for loop\n",
    "for num in list1: \n",
    "      \n",
    "    # checking the condition \n",
    "    if num % 2 == 0: \n",
    "        count_even_num += 1\n",
    "  \n",
    "    else: \n",
    "        count_odd_num += 1\n",
    "          \n",
    "print(\"Number of even numbers :\",count_even_num)\n",
    "print(\"Number of odd numbers :\",count_odd_num) "
   ]
  },
  {
   "cell_type": "code",
   "execution_count": 31,
   "metadata": {},
   "outputs": [
    {
     "name": "stdout",
     "output_type": "stream",
     "text": [
      "Number of even numbers : 4\n",
      "Number of odd numbers : 5\n"
     ]
    }
   ],
   "source": [
    "# solution 3 using list and while loop\n",
    "\n",
    "list1 = [1, 2, 3, 4, 5, 6, 7, 8, 9] # the list of numbers \n",
    "  \n",
    "count_even_num, count_odd_num = 0, 0\n",
    "num = 0\n",
    "  \n",
    "# using the while loop      \n",
    "while(num < len(list1)): \n",
    "      \n",
    "    # checking the condition \n",
    "    if list1[num] % 2 == 0: \n",
    "        count_even_num += 1\n",
    "    else: \n",
    "        count_odd_num += 1\n",
    "      \n",
    "    # increment the num  \n",
    "    num += 1\n",
    "      \n",
    "print(\"Number of even numbers :\",count_even_num)\n",
    "print(\"Number of odd numbers :\",count_odd_num)"
   ]
  },
  {
   "cell_type": "code",
   "execution_count": null,
   "metadata": {},
   "outputs": [],
   "source": []
  }
 ],
 "metadata": {
  "kernelspec": {
   "display_name": "Python 3",
   "language": "python",
   "name": "python3"
  },
  "language_info": {
   "codemirror_mode": {
    "name": "ipython",
    "version": 3
   },
   "file_extension": ".py",
   "mimetype": "text/x-python",
   "name": "python",
   "nbconvert_exporter": "python",
   "pygments_lexer": "ipython3",
   "version": "3.7.4"
  }
 },
 "nbformat": 4,
 "nbformat_minor": 2
}
